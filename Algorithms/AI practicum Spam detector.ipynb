{
 "cells": [
  {
   "cell_type": "code",
   "execution_count": 1,
   "metadata": {},
   "outputs": [
    {
     "name": "stdout",
     "output_type": "stream",
     "text": [
      "Populating the interactive namespace from numpy and matplotlib\n"
     ]
    }
   ],
   "source": [
    "# import necessary modules\n",
    "import string\n",
    "import pandas as pd\n",
    "import matplotlib.pyplot as plt\n",
    "import time\n",
    "%pylab inline"
   ]
  },
  {
   "cell_type": "markdown",
   "metadata": {},
   "source": [
    "## 1. Prepare data"
   ]
  },
  {
   "cell_type": "code",
   "execution_count": 2,
   "metadata": {},
   "outputs": [
    {
     "data": {
      "text/html": [
       "<div>\n",
       "<style scoped>\n",
       "    .dataframe tbody tr th:only-of-type {\n",
       "        vertical-align: middle;\n",
       "    }\n",
       "\n",
       "    .dataframe tbody tr th {\n",
       "        vertical-align: top;\n",
       "    }\n",
       "\n",
       "    .dataframe thead th {\n",
       "        text-align: right;\n",
       "    }\n",
       "</style>\n",
       "<table border=\"1\" class=\"dataframe\">\n",
       "  <thead>\n",
       "    <tr style=\"text-align: right;\">\n",
       "      <th></th>\n",
       "      <th>v1</th>\n",
       "      <th>v2</th>\n",
       "      <th>Unnamed: 2</th>\n",
       "      <th>Unnamed: 3</th>\n",
       "      <th>Unnamed: 4</th>\n",
       "    </tr>\n",
       "  </thead>\n",
       "  <tbody>\n",
       "    <tr>\n",
       "      <th>0</th>\n",
       "      <td>ham</td>\n",
       "      <td>Go until jurong point, crazy.. Available only ...</td>\n",
       "      <td>NaN</td>\n",
       "      <td>NaN</td>\n",
       "      <td>NaN</td>\n",
       "    </tr>\n",
       "    <tr>\n",
       "      <th>1</th>\n",
       "      <td>ham</td>\n",
       "      <td>Ok lar... Joking wif u oni...</td>\n",
       "      <td>NaN</td>\n",
       "      <td>NaN</td>\n",
       "      <td>NaN</td>\n",
       "    </tr>\n",
       "    <tr>\n",
       "      <th>2</th>\n",
       "      <td>spam</td>\n",
       "      <td>Free entry in 2 a wkly comp to win FA Cup fina...</td>\n",
       "      <td>NaN</td>\n",
       "      <td>NaN</td>\n",
       "      <td>NaN</td>\n",
       "    </tr>\n",
       "    <tr>\n",
       "      <th>3</th>\n",
       "      <td>ham</td>\n",
       "      <td>U dun say so early hor... U c already then say...</td>\n",
       "      <td>NaN</td>\n",
       "      <td>NaN</td>\n",
       "      <td>NaN</td>\n",
       "    </tr>\n",
       "    <tr>\n",
       "      <th>4</th>\n",
       "      <td>ham</td>\n",
       "      <td>Nah I don't think he goes to usf, he lives aro...</td>\n",
       "      <td>NaN</td>\n",
       "      <td>NaN</td>\n",
       "      <td>NaN</td>\n",
       "    </tr>\n",
       "  </tbody>\n",
       "</table>\n",
       "</div>"
      ],
      "text/plain": [
       "     v1                                                 v2 Unnamed: 2  \\\n",
       "0   ham  Go until jurong point, crazy.. Available only ...        NaN   \n",
       "1   ham                      Ok lar... Joking wif u oni...        NaN   \n",
       "2  spam  Free entry in 2 a wkly comp to win FA Cup fina...        NaN   \n",
       "3   ham  U dun say so early hor... U c already then say...        NaN   \n",
       "4   ham  Nah I don't think he goes to usf, he lives aro...        NaN   \n",
       "\n",
       "  Unnamed: 3 Unnamed: 4  \n",
       "0        NaN        NaN  \n",
       "1        NaN        NaN  \n",
       "2        NaN        NaN  \n",
       "3        NaN        NaN  \n",
       "4        NaN        NaN  "
      ]
     },
     "execution_count": 2,
     "metadata": {},
     "output_type": "execute_result"
    }
   ],
   "source": [
    "# read data and show the data\n",
    "data = pd.read_csv('spam.csv', encoding='latin-1')\n",
    "data.head()"
   ]
  },
  {
   "cell_type": "code",
   "execution_count": 3,
   "metadata": {
    "collapsed": true
   },
   "outputs": [],
   "source": [
    "# drop the last three columns, and rename the first two\n",
    "data = data.drop([\"Unnamed: 2\", \"Unnamed: 3\", \"Unnamed: 4\"], axis=1)\n",
    "data = data.rename(columns={\"v1\":\"label\", \"v2\":\"text\"})"
   ]
  },
  {
   "cell_type": "code",
   "execution_count": 4,
   "metadata": {
    "collapsed": true
   },
   "outputs": [],
   "source": [
    "# convert label to numerical value\n",
    "data['label_num'] = data.label.map({'ham':0, 'spam':1})\n",
    "# Observe the data, see that spam messages might be longer & has more digit information"
   ]
  },
  {
   "cell_type": "code",
   "execution_count": 5,
   "metadata": {
    "collapsed": true
   },
   "outputs": [],
   "source": [
    "# split to train set and test set\n",
    "from sklearn.model_selection import train_test_split\n",
    "X_train, X_test, Y_train, Y_test = train_test_split(data['text'], data['label_num'], test_size=0.3)"
   ]
  },
  {
   "cell_type": "code",
   "execution_count": 6,
   "metadata": {},
   "outputs": [
    {
     "data": {
      "text/plain": [
       "['vec.pkl']"
      ]
     },
     "execution_count": 6,
     "metadata": {},
     "output_type": "execute_result"
    }
   ],
   "source": [
    "# preprocess & extract features\n",
    "from sklearn.feature_extraction.text import CountVectorizer\n",
    "vectorizer = CountVectorizer(stop_words = 'english')\n",
    "vectorizer.fit(X_train)\n",
    "features_train = vectorizer.transform(X_train)\n",
    "features_test = vectorizer.transform(X_test)\n",
    "import sklearn.externals.joblib as jl\n",
    "# save the vectorizer\n",
    "jl.dump(vectorizer,'vec.pkl')"
   ]
  },
  {
   "cell_type": "markdown",
   "metadata": {},
   "source": [
    "## 2. Apply machine learning methods"
   ]
  },
  {
   "cell_type": "code",
   "execution_count": 9,
   "metadata": {
    "collapsed": true
   },
   "outputs": [],
   "source": [
    "# use different machine learning methods\n",
    "from sklearn.metrics import accuracy_score\n",
    "accuracy = []\n",
    "predtime=[]"
   ]
  },
  {
   "cell_type": "markdown",
   "metadata": {},
   "source": [
    "### 2.1 Apply KNN-K Nearest Neighbors"
   ]
  },
  {
   "cell_type": "code",
   "execution_count": 10,
   "metadata": {},
   "outputs": [
    {
     "name": "stdout",
     "output_type": "stream",
     "text": [
      "the accuracy of 1-Nearest Neighbors is : 0.950359\n",
      "the accuracy of 2-Nearest Neighbors is : 0.949761\n",
      "the accuracy of 3-Nearest Neighbors is : 0.938995\n",
      "the accuracy of 4-Nearest Neighbors is : 0.936005\n",
      "the accuracy of 5-Nearest Neighbors is : 0.931220\n",
      "the accuracy of 6-Nearest Neighbors is : 0.926435\n",
      "the accuracy of 7-Nearest Neighbors is : 0.925837\n",
      "the accuracy of 8-Nearest Neighbors is : 0.922847\n",
      "the accuracy of 9-Nearest Neighbors is : 0.920455\n",
      "the accuracy of 10-Nearest Neighbors is : 0.918062\n",
      "the best classification accuracy for KNN is : 0.950359\n"
     ]
    },
    {
     "data": {
      "text/plain": [
       "Text(0.5,1,'the classification accuracy for each k')"
      ]
     },
     "execution_count": 10,
     "metadata": {},
     "output_type": "execute_result"
    },
    {
     "data": {
      "image/png": "[encoded data removed]",
      "text/plain": [
       "<Figure size 432x288 with 1 Axes>"
      ]
     },
     "metadata": {
      "needs_background": "light"
     },
     "output_type": "display_data"
    }
   ],
   "source": [
    "# do the classification  using KNN\n",
    "from sklearn.neighbors import KNeighborsClassifier\n",
    "# we would control number of n_neighbors & whether or not using weight option\n",
    "N = range(1,11)\n",
    "# accuracy results\n",
    "knn_acc = []\n",
    "nlist = []\n",
    "for n in N:\n",
    "    KNN = KNeighborsClassifier(n_neighbors=n, weights = 'distance')\n",
    "    KNN.fit(features_train, Y_train)\n",
    "    Predict_test = KNN.predict(features_test)\n",
    "    knn_acc.append(accuracy_score(Y_test,Predict_test))\n",
    "    nlist.append(n)\n",
    "    print(\"the accuracy of %d-Nearest Neighbors is : %f\" % (n, accuracy_score(Y_test,Predict_test)))\n",
    "print(\"the best classification accuracy for KNN is : %f\" % np.max(knn_acc))\n",
    "\n",
    "plt.plot(nlist,knn_acc,'ro-');plt.title(\"the classification accuracy for each k\")"
   ]
  },
  {
   "cell_type": "code",
   "execution_count": 45,
   "metadata": {},
   "outputs": [
    {
     "name": "stdout",
     "output_type": "stream",
     "text": [
      "the time of prediction of 1nn is 0.104708 second\n"
     ]
    }
   ],
   "source": [
    "KNN = KNeighborsClassifier(n_neighbors=1, weights = 'distance')\n",
    "KNN.fit(features_train, Y_train)\n",
    "t1=time.time()\n",
    "Predict_test = KNN.predict(features_test)\n",
    "t2=time.time()\n",
    "t1nn=t2-t1\n",
    "print (\"the time of prediction of 1nn is %f second\"%t1nn)\n",
    "predtime.append(t1nn)\n",
    "accuracy.append(('KNN',[np.max(knn_acc)]))"
   ]
  },
  {
   "cell_type": "markdown",
   "metadata": {},
   "source": [
    "### 2.2 Neural Networks- Multi-layer Perceptron classifier"
   ]
  },
  {
   "cell_type": "code",
   "execution_count": 11,
   "metadata": {},
   "outputs": [
    {
     "name": "stdout",
     "output_type": "stream",
     "text": [
      "iterations for activation function as logistic\n",
      "iterations for activation function as tanh\n",
      "iterations for activation function as relu\n"
     ]
    }
   ],
   "source": [
    "# Use neural network\n",
    "from sklearn.neural_network import MLPClassifier\n",
    "\n",
    "# test effect on different activation function\n",
    "function = ['logistic', 'tanh', 'relu']\n",
    "acc = []\n",
    "for fun in function:\n",
    "    print(\"iterations for activation function as %s\" % fun)\n",
    "    DNN = MLPClassifier(hidden_layer_sizes = (256,256), activation = fun, solver='adam',\n",
    "              shuffle=True,validation_fraction=0.1)\n",
    "    DNN.fit(features_train, Y_train)\n",
    "    Predict_test = DNN.predict(features_test)\n",
    "    mlp_acc = accuracy_score(Y_test,Predict_test)\n",
    "    acc.append(mlp_acc)"
   ]
  },
  {
   "cell_type": "code",
   "execution_count": 14,
   "metadata": {},
   "outputs": [
    {
     "data": {
      "image/png": "[encoded data removed]",
      "text/plain": [
       "<Figure size 432x288 with 1 Axes>"
      ]
     },
     "metadata": {
      "needs_background": "light"
     },
     "output_type": "display_data"
    }
   ],
   "source": [
    "plt.plot(np.arange(3),acc, 'ro-')\n",
    "plt.xticks(np.arange(3),function)\n",
    "plt.title('Accuracy on different function')\n",
    "for i,j in zip(np.arange(3),acc):\n",
    "    plt.annotate(str(round(j,4)),xy=(i,j))\n",
    "plt.show()"
   ]
  },
  {
   "cell_type": "code",
   "execution_count": 15,
   "metadata": {
    "collapsed": true
   },
   "outputs": [],
   "source": [
    "# test effect on different number of hidden layers\n",
    "layer_size = 64\n",
    "acc = []\n",
    "for num_layers in range(1,9):\n",
    "    hidden_layer_sizes = np.ones(num_layers,dtype=int) * layer_size\n",
    "    DNN = MLPClassifier(hidden_layer_sizes = hidden_layer_sizes, activation = 'logistic')\n",
    "    DNN.fit(features_train, Y_train)\n",
    "    Predict_test = DNN.predict(features_test)\n",
    "    mlp_acc = accuracy_score(Y_test,Predict_test)\n",
    "    acc.append(mlp_acc)"
   ]
  },
  {
   "cell_type": "code",
   "execution_count": 16,
   "metadata": {},
   "outputs": [
    {
     "data": {
      "image/png": "[encoded data removed]",
      "text/plain": [
       "<Figure size 432x288 with 1 Axes>"
      ]
     },
     "metadata": {
      "needs_background": "light"
     },
     "output_type": "display_data"
    }
   ],
   "source": [
    "plt.plot(range(1,9),acc, 'ro-')\n",
    "plt.title('Accuracy on different number of hidden layers')\n",
    "for i,j in zip(range(1,9),acc):\n",
    "    plt.annotate(str(round(j,4)),xy=(i,j))\n",
    "plt.show()"
   ]
  },
  {
   "cell_type": "code",
   "execution_count": 17,
   "metadata": {},
   "outputs": [
    {
     "name": "stderr",
     "output_type": "stream",
     "text": [
      "/Users/eric/anaconda2/envs/p36workshop/lib/python3.6/site-packages/sklearn/neural_network/multilayer_perceptron.py:564: ConvergenceWarning: Stochastic Optimizer: Maximum iterations (200) reached and the optimization hasn't converged yet.\n",
      "  % self.max_iter, ConvergenceWarning)\n"
     ]
    }
   ],
   "source": [
    "# test effect on different hidden layer sizes\n",
    "layer_sizes = [2, 8, 16, 32, 64, 128, 256, 512]\n",
    "acc = []\n",
    "for layer_size in layer_sizes:\n",
    "    hidden_layer_sizes = np.ones(3,dtype=int) * layer_size\n",
    "    model = MLPClassifier(hidden_layer_sizes = hidden_layer_sizes, activation = 'logistic')\n",
    "    model.fit(features_train, Y_train)\n",
    "    Predict_test = model.predict(features_test)\n",
    "    mlp_acc = accuracy_score(Y_test,Predict_test)\n",
    "    acc.append(mlp_acc)"
   ]
  },
  {
   "cell_type": "code",
   "execution_count": 18,
   "metadata": {},
   "outputs": [
    {
     "data": {
      "image/png": "[encoded data removed]",
      "text/plain": [
       "<Figure size 432x288 with 1 Axes>"
      ]
     },
     "metadata": {
      "needs_background": "light"
     },
     "output_type": "display_data"
    }
   ],
   "source": [
    "plt.plot(range(1,9),acc, 'ro-')\n",
    "plt.title('Accuracy on different layer sizes')\n",
    "plt.xticks(range(1,9), layer_sizes)\n",
    "for i,j in zip(range(1,9),acc):\n",
    "    plt.annotate(str(round(j,4)),xy=(i,j))\n",
    "plt.show()\n"
   ]
  },
  {
   "cell_type": "code",
   "execution_count": null,
   "metadata": {},
   "outputs": [],
   "source": [
    "model = MLPClassifier(hidden_layer_sizes = (64,64,64), activation = 'logistic')\n",
    "model.fit(features_train, Y_train)\n",
    "\n",
    "\n",
    "\n",
    "t1=time.time()\n",
    "Predict_test = model.predict(features_test)\n",
    "t2=time.time()\n",
    "\n",
    "mlp_acc = accuracy_score(Y_test,Predict_test)\n",
    "\n",
    "tdnn=t2-t1\n",
    "predtime.append(tdnn)\n",
    "accuracy.append(('DNN',[np.max(acc)]))\n",
    "print(\"the time of prediction of dnn is %f second\"%tdnn)\n",
    "print(\"the accuracy of dnn is %f\"%mlp_acc)\n",
    "\n",
    "\n",
    "jl.dump(model,'DNN.pkl')"
   ]
  },
  {
   "cell_type": "markdown",
   "metadata": {},
   "source": [
    "### 2.3 Gaussian Naive Bayes"
   ]
  },
  {
   "cell_type": "code",
   "execution_count": 47,
   "metadata": {},
   "outputs": [
    {
     "name": "stdout",
     "output_type": "stream",
     "text": [
      "the time of prediction of GNB is 0.000637 second\n",
      "the classification accuracy of Multinomial Naive Bayes is: 0.986842\n"
     ]
    }
   ],
   "source": [
    "from sklearn.naive_bayes import MultinomialNB \n",
    "MNB = MultinomialNB(alpha=0.2)\n",
    "MNB.fit(features_train, Y_train)\n",
    "t1=time.time()\n",
    "MNBpred = MNB.predict(features_test)\n",
    "t2=time.time()\n",
    "tgnb=t2-t1\n",
    "print(\"the time of prediction of GNB is %f second\"%tgnb)\n",
    "MNBacc = accuracy_score(Y_test,MNBpred)\n",
    "predtime.append(tgnb)\n",
    "print(\"the classification accuracy of Multinomial Naive Bayes is: %f\" % MNBacc)\n",
    "accuracy.append(('MulNB',[MNBacc]))"
   ]
  },
  {
   "cell_type": "markdown",
   "metadata": {},
   "source": [
    "### 2.4 Logistic Regression"
   ]
  },
  {
   "cell_type": "code",
   "execution_count": 48,
   "metadata": {},
   "outputs": [
    {
     "name": "stdout",
     "output_type": "stream",
     "text": [
      "the time of prediction of LR is 0.000282 second\n",
      "the classification accuracy of Logistic Regression is: 0.979067\n"
     ]
    }
   ],
   "source": [
    "from sklearn.linear_model import LogisticRegression\n",
    "LRmdl = LogisticRegression(solver='liblinear', penalty='l1')\n",
    "LRmdl.fit(features_train, Y_train)\n",
    "t1=time.time()\n",
    "LRpred = LRmdl.predict(features_test)\n",
    "t2=time.time()\n",
    "tlr=t2-t1\n",
    "print(\"the time of prediction of LR is %f second\"%tlr)\n",
    "predtime.append(tlr)\n",
    "LRacc = accuracy_score(Y_test, LRpred)\n",
    "print(\"the classification accuracy of Logistic Regression is: %f\" % LRacc)\n",
    "accuracy.append(('Logistic Regression',[LRacc]))"
   ]
  },
  {
   "cell_type": "markdown",
   "metadata": {},
   "source": [
    "### 2.5 Decision Tree"
   ]
  },
  {
   "cell_type": "code",
   "execution_count": 49,
   "metadata": {},
   "outputs": [
    {
     "name": "stdout",
     "output_type": "stream",
     "text": [
      "the time of prediction of DT is 0.001034 second\n",
      "the classification accuracy of Decision Tree is: 0.968900\n"
     ]
    }
   ],
   "source": [
    "from sklearn.tree import DecisionTreeClassifier\n",
    "TREE = DecisionTreeClassifier(min_samples_split=7, random_state=128)\n",
    "TREE.fit(features_train, Y_train)\n",
    "t1=time.time()\n",
    "TREEpred = TREE.predict(features_test)\n",
    "t2=time.time()\n",
    "tdt=t2-t1\n",
    "print(\"the time of prediction of DT is %f second\"%tdt)\n",
    "predtime.append(tdt)\n",
    "TREEacc = accuracy_score(Y_test, TREEpred)\n",
    "print(\"the classification accuracy of Decision Tree is: %f\" % TREEacc)\n",
    "accuracy.append(('Decision Tree',[TREEacc]))"
   ]
  },
  {
   "cell_type": "markdown",
   "metadata": {},
   "source": [
    "### 2.6 Random Forest"
   ]
  },
  {
   "cell_type": "code",
   "execution_count": 50,
   "metadata": {},
   "outputs": [
    {
     "name": "stdout",
     "output_type": "stream",
     "text": [
      "the time of prediction of RF is 0.042470 second\n",
      "the classification accuracy of Random Forest is: 0.971890\n"
     ]
    }
   ],
   "source": [
    "from sklearn.ensemble import RandomForestClassifier\n",
    "Forest = RandomForestClassifier(n_estimators=31, random_state=128)\n",
    "Forest.fit(features_train, Y_train)\n",
    "t1=time.time()\n",
    "Forest_pred = Forest.predict(features_test)\n",
    "t2=time.time()\n",
    "trf=t2-t1\n",
    "print(\"the time of prediction of RF is %f second\"%trf)\n",
    "predtime.append(trf)\n",
    "Forestacc = accuracy_score(Y_test, Forest_pred)\n",
    "print(\"the classification accuracy of Random Forest is: %f\" % Forestacc)\n",
    "accuracy.append(('Random Forest',[Forestacc]))"
   ]
  },
  {
   "cell_type": "markdown",
   "metadata": {},
   "source": [
    "### 2.7 Support Vector Machine"
   ]
  },
  {
   "cell_type": "code",
   "execution_count": 51,
   "metadata": {},
   "outputs": [
    {
     "name": "stdout",
     "output_type": "stream",
     "text": [
      "the time of prediction of SVM is 0.040324 second\n",
      "the classification accuracy of Support Vector Machine is: 0.933014\n"
     ]
    }
   ],
   "source": [
    "from sklearn.svm import SVC\n",
    "SVM = SVC(kernel='sigmoid', gamma=1.0)\n",
    "SVM.fit(features_train, Y_train)\n",
    "t1=time.time()\n",
    "SVM_pred = SVM.predict(features_test)\n",
    "t2=time.time()\n",
    "tsvm=t2-t1\n",
    "print(\"the time of prediction of SVM is %f second\"%tsvm)\n",
    "predtime.append(tsvm)\n",
    "\n",
    "SVMacc = accuracy_score(Y_test, SVM_pred)\n",
    "print(\"the classification accuracy of Support Vector Machine is: %f\" % SVMacc)\n",
    "accuracy.append(('SVC',[SVMacc]))"
   ]
  },
  {
   "cell_type": "markdown",
   "metadata": {},
   "source": [
    "### 2.8 Ada Boost"
   ]
  },
  {
   "cell_type": "code",
   "execution_count": 52,
   "metadata": {},
   "outputs": [
    {
     "name": "stdout",
     "output_type": "stream",
     "text": [
      "the time of prediction of Ada Boost is 0.016216 second\n",
      "the classification accuracy of Ada Boost is: 0.970694\n"
     ]
    }
   ],
   "source": [
    "from sklearn.ensemble import AdaBoostClassifier\n",
    "ADB = AdaBoostClassifier(n_estimators=62, random_state=128)\n",
    "ADB.fit(features_train, Y_train)\n",
    "t1=time.time()\n",
    "ADB_pred = ADB.predict(features_test)\n",
    "t2=time.time()\n",
    "tab=t2-t1\n",
    "print(\"the time of prediction of Ada Boost is %f second\"%tab)\n",
    "predtime.append(tab)\n",
    "\n",
    "ADBacc = accuracy_score(Y_test, ADB_pred)\n",
    "print(\"the classification accuracy of Ada Boost is: %f\" % ADBacc)\n",
    "accuracy.append(('AdaBoost',[ADBacc]))"
   ]
  },
  {
   "cell_type": "markdown",
   "metadata": {},
   "source": [
    "### 2.9 Bagging"
   ]
  },
  {
   "cell_type": "code",
   "execution_count": 53,
   "metadata": {},
   "outputs": [
    {
     "name": "stdout",
     "output_type": "stream",
     "text": [
      "the time of prediction of Bagging is 0.019848 second\n",
      "the classification accuracy of Bagging is: 0.972488\n"
     ]
    }
   ],
   "source": [
    "from sklearn.ensemble import BaggingClassifier\n",
    "Bag = BaggingClassifier(n_estimators=9, random_state=128)\n",
    "Bag.fit(features_train, Y_train)\n",
    "t1=time.time()\n",
    "Bag_pred = Bag.predict(features_test)\n",
    "t2=time.time()\n",
    "tbag=t2-t1\n",
    "print(\"the time of prediction of Bagging is %f second\"%tbag)\n",
    "predtime.append(tbag)\n",
    "\n",
    "Bagacc = accuracy_score(Y_test, Bag_pred)\n",
    "print(\"the classification accuracy of Bagging is: %f\" % Bagacc)\n",
    "accuracy.append(('Bagging',[Bagacc]))"
   ]
  },
  {
   "cell_type": "markdown",
   "metadata": {},
   "source": [
    "## 3. Compare Accuracy and Efficiency of each Classifier"
   ]
  },
  {
   "cell_type": "code",
   "execution_count": 54,
   "metadata": {},
   "outputs": [
    {
     "name": "stderr",
     "output_type": "stream",
     "text": [
      "/Users/eric/anaconda2/envs/p36workshop/lib/python3.6/site-packages/ipykernel_launcher.py:2: FutureWarning: from_items is deprecated. Please use DataFrame.from_dict(dict(items), ...) instead. DataFrame.from_dict(OrderedDict(items)) may be used to preserve the key order.\n",
      "  \n"
     ]
    },
    {
     "data": {
      "text/html": [
       "<div>\n",
       "<style scoped>\n",
       "    .dataframe tbody tr th:only-of-type {\n",
       "        vertical-align: middle;\n",
       "    }\n",
       "\n",
       "    .dataframe tbody tr th {\n",
       "        vertical-align: top;\n",
       "    }\n",
       "\n",
       "    .dataframe thead th {\n",
       "        text-align: right;\n",
       "    }\n",
       "</style>\n",
       "<table border=\"1\" class=\"dataframe\">\n",
       "  <thead>\n",
       "    <tr style=\"text-align: right;\">\n",
       "      <th></th>\n",
       "      <th>Score</th>\n",
       "    </tr>\n",
       "  </thead>\n",
       "  <tbody>\n",
       "    <tr>\n",
       "      <th>KNN</th>\n",
       "      <td>0.949761</td>\n",
       "    </tr>\n",
       "    <tr>\n",
       "      <th>DNN</th>\n",
       "      <td>0.991029</td>\n",
       "    </tr>\n",
       "    <tr>\n",
       "      <th>MulNB</th>\n",
       "      <td>0.986842</td>\n",
       "    </tr>\n",
       "    <tr>\n",
       "      <th>Logistic Regression</th>\n",
       "      <td>0.979067</td>\n",
       "    </tr>\n",
       "    <tr>\n",
       "      <th>Decision Tree</th>\n",
       "      <td>0.968900</td>\n",
       "    </tr>\n",
       "    <tr>\n",
       "      <th>Random Forest</th>\n",
       "      <td>0.971890</td>\n",
       "    </tr>\n",
       "    <tr>\n",
       "      <th>SVC</th>\n",
       "      <td>0.933014</td>\n",
       "    </tr>\n",
       "    <tr>\n",
       "      <th>AdaBoost</th>\n",
       "      <td>0.970694</td>\n",
       "    </tr>\n",
       "    <tr>\n",
       "      <th>Bagging</th>\n",
       "      <td>0.972488</td>\n",
       "    </tr>\n",
       "  </tbody>\n",
       "</table>\n",
       "</div>"
      ],
      "text/plain": [
       "                        Score\n",
       "KNN                  0.949761\n",
       "DNN                  0.991029\n",
       "MulNB                0.986842\n",
       "Logistic Regression  0.979067\n",
       "Decision Tree        0.968900\n",
       "Random Forest        0.971890\n",
       "SVC                  0.933014\n",
       "AdaBoost             0.970694\n",
       "Bagging              0.972488"
      ]
     },
     "execution_count": 54,
     "metadata": {},
     "output_type": "execute_result"
    }
   ],
   "source": [
    "clfs = {'KNN' : KNN,'DNN' : DNN, 'MNB': MNB, 'LR': LRmdl, 'DeTree': TREE,'RanFore': Forest, 'SVC' : SVM, 'AdaBoost': ADB, 'Bagg': Bag}\n",
    "df = pd.DataFrame.from_items(accuracy, orient='index', columns=['Score'])\n",
    "df"
   ]
  },
  {
   "cell_type": "code",
   "execution_count": 55,
   "metadata": {
    "collapsed": true
   },
   "outputs": [],
   "source": [
    "Ptime=pd.DataFrame(predtime)"
   ]
  },
  {
   "cell_type": "code",
   "execution_count": 56,
   "metadata": {},
   "outputs": [
    {
     "data": {
      "text/plain": [
       "<matplotlib.legend.Legend at 0x1a20138f28>"
      ]
     },
     "execution_count": 56,
     "metadata": {},
     "output_type": "execute_result"
    },
    {
     "data": {
      "image/png": "[encoded data removed]",
      "text/plain": [
       "<Figure size 792x432 with 1 Axes>"
      ]
     },
     "metadata": {
      "needs_background": "light"
     },
     "output_type": "display_data"
    }
   ],
   "source": [
    "df.plot(kind='bar', ylim=(0.9,1.0), figsize=(11,6), align='center', colormap=\"Accent\")\n",
    "plt.xticks(np.arange(9), df.index)\n",
    "plt.ylabel('Accuracy Score')\n",
    "plt.title('Accuracy of different Classifiers')\n",
    "plt.legend(bbox_to_anchor=(1.05, 1), loc=2, borderaxespad=0.)"
   ]
  },
  {
   "cell_type": "code",
   "execution_count": 57,
   "metadata": {},
   "outputs": [
    {
     "data": {
      "text/plain": [
       "<matplotlib.legend.Legend at 0x1a20297048>"
      ]
     },
     "execution_count": 57,
     "metadata": {},
     "output_type": "execute_result"
    },
    {
     "data": {
      "image/png": "[encoded data removed]",
      "text/plain": [
       "<Figure size 792x432 with 1 Axes>"
      ]
     },
     "metadata": {
      "needs_background": "light"
     },
     "output_type": "display_data"
    }
   ],
   "source": [
    "Ptime.plot(kind='bar', figsize=(11,6), align='center', colormap=\"Accent\")\n",
    "plt.xticks(np.arange(9), df.index)\n",
    "plt.ylabel('Prediction Time')\n",
    "plt.title('Prediction Time by Classifier')\n",
    "plt.legend(bbox_to_anchor=(1.05, 1), loc=2, borderaxespad=0.)"
   ]
  },
  {
   "cell_type": "code",
   "execution_count": null,
   "metadata": {
    "collapsed": true
   },
   "outputs": [],
   "source": []
  }
 ],
 "metadata": {
  "kernelspec": {
   "display_name": "p36workshop",
   "language": "python",
   "name": "p36workshop"
  },
  "language_info": {
   "codemirror_mode": {
    "name": "ipython",
    "version": 3
   },
   "file_extension": ".py",
   "mimetype": "text/x-python",
   "name": "python",
   "nbconvert_exporter": "python",
   "pygments_lexer": "ipython3",
   "version": "3.6.6"
  }
 },
 "nbformat": 4,
 "nbformat_minor": 2
}
